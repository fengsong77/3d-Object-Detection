{
 "cells": [
  {
   "cell_type": "code",
   "execution_count": null,
   "metadata": {},
   "outputs": [],
   "source": [
    "import pickle\n",
    "import torch.utils.data\n",
    "from LSUV_pytorch.LSUV import LSUVinit\n",
    "from config import cfg\n",
    "from model.model import PPModel,PPScatter\n",
    "from model.loss import PPLoss\n",
    "from data.dataset import PPDataset\n",
    "from tqdm import tqdm_notebook\n",
    "import pdb\n",
    "import pathlib\n",
    "import os.path as osp\n",
    "from evaluate import evaluate_single,box_nms,make_pred_boxes\n",
    "import numpy as np\n",
    "import matplotlib.pyplot as plt\n",
    "from matplotlib import patches, patheffects\n",
    "from pyquaternion import Quaternion\n",
    "from utils.box_utils import boxes_to_image_space\n",
    "from importlib import reload"
   ]
  },
  {
   "cell_type": "code",
   "execution_count": null,
   "metadata": {},
   "outputs": [],
   "source": [
    "%matplotlib inline\n",
    "%load_ext autoreload\n",
    "%autoreload 2"
   ]
  },
  {
   "cell_type": "code",
   "execution_count": null,
   "metadata": {},
   "outputs": [],
   "source": [
    "from lyft_dataset_sdk.lyftdataset import LyftDataset\n",
    "from lyft_dataset_sdk.utils.data_classes import LidarPointCloud,Box"
   ]
  },
  {
   "cell_type": "code",
   "execution_count": null,
   "metadata": {},
   "outputs": [],
   "source": [
    "fn_in = cfg.NET.FEATURE_NET_IN\n",
    "fn_out = cfg.NET.FEATURE_NET_OUT\n",
    "cls_channels = len(cfg.DATA.ANCHOR_DIMS)*cfg.DATA.NUM_CLASSES\n",
    "reg_channels = len(cfg.DATA.ANCHOR_DIMS)*cfg.DATA.REG_DIMS"
   ]
  },
  {
   "cell_type": "code",
   "execution_count": null,
   "metadata": {},
   "outputs": [],
   "source": [
    "ddfp = osp.join(cfg.DATA.LIDAR_TRAIN_DIR,'data_dict.pkl')\n",
    "boxfp = osp.join(cfg.DATA.ANCHOR_DIR,'anchor_boxes.pkl')\n",
    "crnfp = osp.join(cfg.DATA.ANCHOR_DIR,'anchor_corners.pkl')\n",
    "cenfp = osp.join(cfg.DATA.ANCHOR_DIR,'anchor_centers.pkl')\n",
    "xyfp = osp.join(cfg.DATA.ANCHOR_DIR,'anchor_xy.pkl')\n",
    "token_fp = osp.join(cfg.DATA.TOKEN_TRAIN_DIR,'token_list.pkl')"
   ]
  },
  {
   "cell_type": "code",
   "execution_count": null,
   "metadata": {},
   "outputs": [],
   "source": [
    "data_dict = pickle.load(open(ddfp,'rb'))\n",
    "anchor_boxes = pickle.load(open(boxfp,'rb'))\n",
    "anchor_corners = pickle.load(open(crnfp,'rb'))\n",
    "anchor_centers = pickle.load(open(cenfp,'rb'))\n",
    "anchor_xy = pickle.load(open(xyfp,'rb'))\n",
    "data_mean = pickle.load(open('pillar_means.pkl','rb'))\n",
    "token_list = pickle.load(open(token_fp,'rb'))"
   ]
  },
  {
   "cell_type": "code",
   "execution_count": null,
   "metadata": {},
   "outputs": [],
   "source": [
    "pp_dataset = PPDataset(token_list,data_dict,anchor_boxes,\n",
    "                      anchor_corners,anchor_centers,data_mean,training=True)"
   ]
  },
  {
   "cell_type": "code",
   "execution_count": null,
   "metadata": {},
   "outputs": [],
   "source": [
    "cls_channels = len(cfg.DATA.ANCHOR_DIMS)*cfg.DATA.NUM_CLASSES\n",
    "reg_channels = len(cfg.DATA.ANCHOR_DIMS)*cfg.DATA.REG_DIMS"
   ]
  },
  {
   "cell_type": "code",
   "execution_count": null,
   "metadata": {},
   "outputs": [],
   "source": [
    "pp_model = PPModel(fn_in,fn_out,cls_channels,reg_channels,'cpu')\n",
    "pp_loss  = PPLoss(cfg.NET.B_ORT,cfg.NET.B_REG,cfg.NET.B_CLS,cfg.NET.GAMMA,'cpu')"
   ]
  },
  {
   "cell_type": "code",
   "execution_count": null,
   "metadata": {},
   "outputs": [],
   "source": [
    "p0,i0,c0,r0 = pp_dataset[0]\n",
    "p0.unsqueeze_(dim=0)\n",
    "i0.unsqueeze_(dim=0)"
   ]
  },
  {
   "cell_type": "code",
   "execution_count": null,
   "metadata": {},
   "outputs": [],
   "source": [
    "pp_model.feature_net = LSUVinit(pp_model.feature_net,p0,needed_std=1,std_tol=0.1,max_attempts=10,do_orthonorm=False)\n",
    "feature_out = pp_model.feature_net(p0)\n",
    "scatter_out = pp_model.scatter(feature_out,i0)\n",
    "print('here')\n",
    "pp_model.backbone = LSUVinit(pp_model.backbone,scatter_out,needed_std=1,std_tol=0.1,max_attempts=10,do_orthonorm=False)\n",
    "backbone_out = pp_model.backbone(scatter_out)\n",
    "pp_model.det_head = LSUVinit(pp_model.det_head,backbone_out,needed_std=1,std_tol=0.1,max_attempts=10,do_orthonorm=False)\n"
   ]
  },
  {
   "cell_type": "code",
   "execution_count": null,
   "metadata": {},
   "outputs": [],
   "source": [
    "pi = 0.01\n",
    "pp_model.det_head.cls.bias.data.fill_(-np.log((1-pi)/pi))"
   ]
  },
  {
   "cell_type": "code",
   "execution_count": null,
   "metadata": {},
   "outputs": [],
   "source": [
    "lr = cfg.NET.LEARNING_RATE\n",
    "wd = cfg.NET.WEIGHT_DECAY\n",
    "params = list(pp_model.parameters())\n",
    "optim  = torch.optim.Adam(params,lr=lr,weight_decay=wd)"
   ]
  },
  {
   "cell_type": "code",
   "execution_count": null,
   "metadata": {},
   "outputs": [],
   "source": [
    "dataloader= torch.utils.data.DataLoader(pp_dataset,3,shuffle=False,num_workers=0)"
   ]
  },
  {
   "cell_type": "code",
   "execution_count": null,
   "metadata": {},
   "outputs": [],
   "source": [
    "i=0\n",
    "num_epochs = 10\n",
    "for e in range(num_epochs):\n",
    "    for i,(pill,ind,c_targ,r_targ) in enumerate(dataloader):\n",
    "        print(i)\n",
    "        print(torch.mean(pill))\n",
    "        cls_tensor,reg_tensor = pp_model(pill,ind)\n",
    "        c_loss,r_loss,batch_loss = pp_loss(cls_tensor,reg_tensor,c_targ,r_targ)\n",
    "        optim.zero_grad()\n",
    "        batch_loss.backward()\n",
    "        optim.step()\n",
    "        print('total: ',batch_loss)\n",
    "        print('cls: ',c_loss)\n",
    "        print('reg: ',r_loss)"
   ]
  },
  {
   "cell_type": "code",
   "execution_count": null,
   "metadata": {},
   "outputs": [],
   "source": [
    "def draw_outline(o, lw):\n",
    "    o.set_path_effects([patheffects.Stroke(\n",
    "        linewidth=lw, foreground='black'), patheffects.Normal()])\n",
    "\n",
    "def draw_rect(ax, b, color='black'):\n",
    "    patch = ax.add_patch(patches.Polygon(b,closed=True,fill=False, edgecolor=color, lw=2))\n",
    "    draw_outline(patch, 4)\n",
    "\n",
    "\n",
    "def plot_box(box):\n",
    "    fig,ax = plt.subplots()\n",
    "    crnrs = box.bottom_corners().transpose([1,0])[:,:2]\n",
    "    ax.scatter(crnrs[:,0],crnrs[:,1])\n",
    "\n",
    "def vis_pillars_corners(p,corners):\n",
    "    fig,ax = plt.subplots()\n",
    "    ax.imshow(p)\n",
    "    for i in range(len(corners)):\n",
    "        draw_rect(ax,corners[i])\n",
    "\n",
    "def vis_pillars(p,boxes):\n",
    "    fig,ax = plt.subplots()\n",
    "    ax.imshow(p)\n",
    "    for box in boxes:\n",
    "        crnrs = box.bottom_corners()[:2,:].transpose([1,0])\n",
    "        draw_rect(ax,crnrs)"
   ]
  }
 ],
 "metadata": {
  "kernelspec": {
   "display_name": "Python 3",
   "language": "python",
   "name": "python3"
  },
  "language_info": {
   "codemirror_mode": {
    "name": "ipython",
    "version": 3
   },
   "file_extension": ".py",
   "mimetype": "text/x-python",
   "name": "python",
   "nbconvert_exporter": "python",
   "pygments_lexer": "ipython3",
   "version": "3.7.4"
  }
 },
 "nbformat": 4,
 "nbformat_minor": 2
}
